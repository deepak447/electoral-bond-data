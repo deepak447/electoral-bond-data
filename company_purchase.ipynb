{
 "cells": [
  {
   "cell_type": "code",
   "execution_count": 1,
   "id": "818c7aaa-ff40-485f-8c48-43db9523aca8",
   "metadata": {},
   "outputs": [],
   "source": [
    "import pandas as pd\n",
    "import pdfplumber\n",
    "from tqdm import tqdm\n"
   ]
  },
  {
   "cell_type": "code",
   "execution_count": 2,
   "id": "c44a8a33-6db2-41bf-a6cf-754ff7b5e1f0",
   "metadata": {},
   "outputs": [],
   "source": [
    "pdf  = pdfplumber.open(\"/mnt/d/work/projects/electoral_bond/detail_bond.pdf\")"
   ]
  },
  {
   "cell_type": "code",
   "execution_count": 9,
   "id": "e0648d15-6563-4c33-aae3-c08e8743b45e",
   "metadata": {},
   "outputs": [],
   "source": [
    "# rows = []\n",
    "# num_page = 552\n",
    "# for page_num in tqdm(range(num_page)):\n",
    "#     with pdfplumber.open(\"/mnt/d/work/microservice/partywise electoral bond.pdf\") as pdf:\n",
    "#         page = pdf.pages[page_num]\n",
    "#         table = page.extract_table()\n",
    "        \n",
    "#         rows.extend(table[1:])\n",
    "        \n",
    "    "
   ]
  },
  {
   "cell_type": "code",
   "execution_count": 3,
   "id": "70e84d36-4ede-4a3a-b507-3a5be86b8222",
   "metadata": {},
   "outputs": [
    {
     "name": "stderr",
     "output_type": "stream",
     "text": [
      "100%|██████████| 552/552 [02:45<00:00,  3.34it/s]\n"
     ]
    }
   ],
   "source": [
    "rows = []\n",
    "for page in tqdm(pdf.pages):\n",
    "    table = page.extract_table()\n",
    "    rows.extend(table)"
   ]
  },
  {
   "cell_type": "code",
   "execution_count": 4,
   "id": "94489b30-b42c-454e-98b2-e566e34326e3",
   "metadata": {},
   "outputs": [],
   "source": [
    "df = pd.DataFrame(rows[1:],columns=['Sr No.',\n",
    "  'Date of\\nEncashment',\n",
    "  'Name of the Political Party',\n",
    "  'Account no. of\\nPolitical Party',\n",
    "  'Prefix',\n",
    "  'Bond\\nNumber',\n",
    "  'Denominations',\n",
    "  'Pay Branch\\nCode',\n",
    "  'Pay Teller'])"
   ]
  },
  {
   "cell_type": "code",
   "execution_count": 5,
   "id": "7dc7fd51-186b-4a2d-ae2d-b1cf0914f21b",
   "metadata": {},
   "outputs": [],
   "source": [
    "df=df.drop([\"Prefix\",\"Pay Teller\",\"Pay Branch\\nCode\"],axis=1)"
   ]
  },
  {
   "cell_type": "code",
   "execution_count": 6,
   "id": "23505652-2f00-47ae-969d-a5d83cddf7a6",
   "metadata": {},
   "outputs": [],
   "source": [
    "df.to_csv(\"/mnt/d/work/notebooks/partybond.csv\",index=False)"
   ]
  },
  {
   "cell_type": "code",
   "execution_count": 7,
   "id": "8cf705b2-7ac6-46bf-b857-693b7b2c7946",
   "metadata": {},
   "outputs": [],
   "source": [
    "party = pd.read_csv(\"partybond.csv\")"
   ]
  }
 ],
 "metadata": {
  "kernelspec": {
   "display_name": "Python 3 (ipykernel)",
   "language": "python",
   "name": "python3"
  },
  "language_info": {
   "codemirror_mode": {
    "name": "ipython",
    "version": 3
   },
   "file_extension": ".py",
   "mimetype": "text/x-python",
   "name": "python",
   "nbconvert_exporter": "python",
   "pygments_lexer": "ipython3",
   "version": "3.10.13"
  }
 },
 "nbformat": 4,
 "nbformat_minor": 5
}
