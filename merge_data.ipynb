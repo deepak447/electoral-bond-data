{
 "cells": [
  {
   "cell_type": "markdown",
   "id": "f07fbd87-7f37-4366-b980-3e27fcf20c6a",
   "metadata": {},
   "source": [
    "# Import all library"
   ]
  },
  {
   "cell_type": "code",
   "execution_count": 33,
   "id": "6e523c0c-952b-4e33-8e71-d963c00d70d8",
   "metadata": {},
   "outputs": [],
   "source": [
    "import pandas as pd\n",
    "from datetime import datetime\n",
    "from tqdm import tqdm\n"
   ]
  },
  {
   "cell_type": "markdown",
   "id": "f7ad07ec-350f-4a64-bf0d-66f38a3c501e",
   "metadata": {},
   "source": [
    "# read file "
   ]
  },
  {
   "cell_type": "code",
   "execution_count": 34,
   "id": "235486c7-62df-4047-af0e-854cc7f07ab2",
   "metadata": {},
   "outputs": [],
   "source": [
    "bond = pd.read_csv(\"bond.csv\")\n",
    "party = pd.read_csv(\"partybond.csv\")"
   ]
  },
  {
   "cell_type": "markdown",
   "id": "b094b5fd-5e90-442e-8f43-9751918691dd",
   "metadata": {},
   "source": [
    "# merge file"
   ]
  },
  {
   "cell_type": "code",
   "execution_count": 35,
   "id": "12aec91a-2333-45bf-814b-9928eb6063aa",
   "metadata": {},
   "outputs": [],
   "source": [
    "result = pd.merge(bond, party, on=\"Bond\\nNumber\")"
   ]
  },
  {
   "cell_type": "code",
   "execution_count": 36,
   "id": "bc7a42de-6b1b-4ee6-beaa-373ecc8941ee",
   "metadata": {},
   "outputs": [],
   "source": [
    "result.to_csv(\"merge.bond data.csv\",index=False)"
   ]
  },
  {
   "cell_type": "code",
   "execution_count": 37,
   "id": "1ec6c663-a40b-46b0-9fa3-b67f47aa4ba7",
   "metadata": {},
   "outputs": [],
   "source": [
    "data=pd.read_csv(\"merge.bond data.csv\")"
   ]
  },
  {
   "cell_type": "code",
   "execution_count": 38,
   "id": "c9e2b8ff-169f-4cdf-98b4-45dd7098e122",
   "metadata": {},
   "outputs": [],
   "source": [
    "data.to_csv(\"merge.bond data.csv\",index=False)"
   ]
  },
  {
   "cell_type": "code",
   "execution_count": 39,
   "id": "3949ad58-b719-4894-8a9d-bdd24c97395c",
   "metadata": {},
   "outputs": [],
   "source": [
    "#data=data.drop([\"Reference No (URN)\",\"Sr No._x\",\"Account no. of\\nPolitical Party\"],axis=1)"
   ]
  },
  {
   "cell_type": "code",
   "execution_count": 59,
   "id": "f4ef9963-77d0-45c4-a18c-2d108aa68adb",
   "metadata": {},
   "outputs": [],
   "source": [
    "file = pd.read_csv(\"merge.bond data.csv\")\n"
   ]
  },
  {
   "cell_type": "markdown",
   "id": "7d4a982f-dfc5-471b-9ffe-1b0095cf8ca1",
   "metadata": {},
   "source": [
    "# change datatype object to int "
   ]
  },
  {
   "cell_type": "code",
   "execution_count": 41,
   "id": "b5c1e073-5af3-45dd-ad2d-580a69a14b46",
   "metadata": {},
   "outputs": [],
   "source": [
    "file[\"Denominations_x\"]=file[\"Denominations_x\"].str.replace(\",\", \"\")"
   ]
  },
  {
   "cell_type": "code",
   "execution_count": 42,
   "id": "22467e52-fa06-4e17-a406-58b15fb79519",
   "metadata": {},
   "outputs": [],
   "source": [
    "# for index, row in tqdm(file.iterrows()):\n",
    "#     row[\"Denominations_x\"] = row[\"Denominations_x\"].replace(\",\", \"\")"
   ]
  },
  {
   "cell_type": "code",
   "execution_count": 43,
   "id": "332e6400-20e4-417f-b9f0-c4ea3b545b46",
   "metadata": {},
   "outputs": [
    {
     "data": {
      "text/plain": [
       "0         1000000\n",
       "1         1000000\n",
       "2         1000000\n",
       "3         1000000\n",
       "4          100000\n",
       "           ...   \n",
       "28770    10000000\n",
       "28771    10000000\n",
       "28772    10000000\n",
       "28773    10000000\n",
       "28774    10000000\n",
       "Name: Denominations_x, Length: 28775, dtype: object"
      ]
     },
     "execution_count": 43,
     "metadata": {},
     "output_type": "execute_result"
    }
   ],
   "source": [
    "file[\"Denominations_x\"]"
   ]
  },
  {
   "cell_type": "code",
   "execution_count": 44,
   "id": "413fecab-b7d4-48dc-b17f-63fe4810d7a2",
   "metadata": {},
   "outputs": [],
   "source": [
    "file[\"Denominations_x\"]=file[\"Denominations_x\"].astype(int)"
   ]
  },
  {
   "cell_type": "code",
   "execution_count": 45,
   "id": "d12ba996-3b4e-4a41-90e4-ebe3b58fc34d",
   "metadata": {},
   "outputs": [],
   "source": [
    "file.to_csv(\"merge.bond data.csv\",index=False)"
   ]
  },
  {
   "cell_type": "markdown",
   "id": "a5eb8661-ae11-4fab-87fd-def9da509751",
   "metadata": {},
   "source": [
    "# datetime format"
   ]
  },
  {
   "cell_type": "code",
   "execution_count": 46,
   "id": "fe32385b-db2a-4bb3-9d83-2a9a57cf9d2b",
   "metadata": {},
   "outputs": [],
   "source": [
    "data=pd.read_csv(\"merge.bond data.csv\")"
   ]
  },
  {
   "cell_type": "code",
   "execution_count": 47,
   "id": "ec23da9d-7924-439a-bf4b-9c932522e43e",
   "metadata": {},
   "outputs": [],
   "source": [
    "date=data[\"Date of\\nPurchase\"]"
   ]
  },
  {
   "cell_type": "code",
   "execution_count": 48,
   "id": "e6afe419-a658-48fc-a89f-146e17590c10",
   "metadata": {},
   "outputs": [],
   "source": [
    "new_data = pd.to_datetime(date,format=\"%d/%b/%Y\")"
   ]
  },
  {
   "cell_type": "code",
   "execution_count": 49,
   "id": "69b58b67-03d8-4184-bc76-7e8f76c664c2",
   "metadata": {},
   "outputs": [],
   "source": [
    "data[\"Date of\\nPurchase\"] = new_data"
   ]
  },
  {
   "cell_type": "code",
   "execution_count": 50,
   "id": "8654822c-f9e0-464d-8606-2d710c690b7e",
   "metadata": {},
   "outputs": [],
   "source": [
    "data[\"Date of\\nPurchase\"] = pd.to_datetime(data[\"Date of\\nPurchase\"],format=\"%d/%b/%Y\")"
   ]
  },
  {
   "cell_type": "code",
   "execution_count": null,
   "id": "b3b0fe60-c6f5-404d-9b24-4cb86780b364",
   "metadata": {},
   "outputs": [],
   "source": []
  },
  {
   "cell_type": "code",
   "execution_count": 51,
   "id": "baef4562-f035-44c3-959c-80ac0edf4275",
   "metadata": {},
   "outputs": [],
   "source": [
    "ele=pd.read_csv(\"merge.bond data.csv\")"
   ]
  },
  {
   "cell_type": "code",
   "execution_count": 52,
   "id": "82f84434-71a8-475c-8e1d-2a27fa14283c",
   "metadata": {},
   "outputs": [],
   "source": [
    "ele[\"Date of\\nEncashment\"] = pd.to_datetime(ele[\"Date of\\nEncashment\"],format=\"%d/%b/%Y\")"
   ]
  },
  {
   "cell_type": "code",
   "execution_count": 53,
   "id": "39e36bab-2c8d-4e2e-b74d-87dc94350226",
   "metadata": {},
   "outputs": [],
   "source": [
    "ele[\"Denominations_y\"] = ele[\"Denominations_y\"].str.replace(\",\",\"\")"
   ]
  },
  {
   "cell_type": "code",
   "execution_count": 54,
   "id": "d3a44f4f-bede-4318-bf9e-384bf16b7f75",
   "metadata": {},
   "outputs": [],
   "source": [
    "ele[\"Denominations_y\"] = ele[\"Denominations_y\"].astype(int)"
   ]
  },
  {
   "cell_type": "code",
   "execution_count": 55,
   "id": "7b0369f3-5111-49cd-870e-22a3e3670711",
   "metadata": {},
   "outputs": [],
   "source": [
    "ele.to_csv(\"merge.bond data.csv\",index = False)"
   ]
  },
  {
   "cell_type": "code",
   "execution_count": 56,
   "id": "5bebd612-ed56-414c-98c1-cc03c3f1880e",
   "metadata": {},
   "outputs": [],
   "source": [
    "election = pd.read_csv(\"merge.bond data.csv\")\n",
    "#election = election.drop(\"Sr No._x\",axis=1)\n",
    "election.to_csv(\"merge.bond data.csv\",index = False)\n",
    "file =  pd.read_csv(\"merge.bond data.csv\")\n"
   ]
  },
  {
   "cell_type": "markdown",
   "id": "e378d7d5-fceb-4474-8ff9-789f9b181090",
   "metadata": {},
   "source": [
    "# group by "
   ]
  },
  {
   "cell_type": "code",
   "execution_count": 57,
   "id": "92e188c0-1454-497c-8c7d-4c78418c8bfc",
   "metadata": {},
   "outputs": [],
   "source": [
    "group_data = file.groupby([\"Name of the Political Party\",\"Name of the Purchaser\"])\n",
    "total = group_data.sum(numeric_only=True,)\n",
    "group_party=total.sort_values(by=[\"Denominations_x\"],ascending=False)\n",
    "group_party.to_csv(\"toal_data.csv\")\n"
   ]
  },
  {
   "cell_type": "code",
   "execution_count": 58,
   "id": "fb54386b-7f91-4da9-b94c-8900340ee1ed",
   "metadata": {},
   "outputs": [],
   "source": [
    "total_data = pd.read_csv(\"final_data.csv\")\n"
   ]
  }
 ],
 "metadata": {
  "kernelspec": {
   "display_name": "Python 3 (ipykernel)",
   "language": "python",
   "name": "python3"
  },
  "language_info": {
   "codemirror_mode": {
    "name": "ipython",
    "version": 3
   },
   "file_extension": ".py",
   "mimetype": "text/x-python",
   "name": "python",
   "nbconvert_exporter": "python",
   "pygments_lexer": "ipython3",
   "version": "3.10.13"
  }
 },
 "nbformat": 4,
 "nbformat_minor": 5
}
